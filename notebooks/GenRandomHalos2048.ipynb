{
 "cells": [
  {
   "cell_type": "code",
   "execution_count": null,
   "id": "38881b23",
   "metadata": {},
   "outputs": [],
   "source": [
    "from GenerateRandoms import GenerateRandomHalos\n",
    "\n",
    "GenerateRandomHalos('Trial_PP_halo_catalog_2048Mpc_n4096_massmin_680000000000.0_massmax_3927384460000.0.npy', seed=0, export_rand_file=True, fileAppendix=\"MassBin1_2048Mpc\", include_rand_plot=False, pointSize=0.05, title=\"Random Halo Positions\", graphSize=20, axisLabelSize=20, axisTickSize=15, titleSize=45)\n",
    "GenerateRandomHalos('Trial_PP_halo_catalog_2048Mpc_n4096_massmin_3927384460000.0_massmax_22682865800000.0.npy', seed=0, export_rand_file=True, fileAppendix=\"MassBin2_2048Mpc\", include_rand_plot=False, pointSize=0.05, title=\"Random Halo Positions\", graphSize=20, axisLabelSize=20, axisTickSize=15, titleSize=45)\n",
    "GenerateRandomHalos('Trial_PP_halo_catalog_2048Mpc_n4096_massmin_22682865800000.0_massmax_131006374000000.0.npy', seed=0, export_rand_file=True, fileAppendix=\"MassBin3_2048Mpc\", include_rand_plot=False, pointSize=0.05, title=\"Random Halo Positions\", graphSize=20, axisLabelSize=20, axisTickSize=15, titleSize=45)\n",
    "GenerateRandomHalos('Trial_PP_halo_catalog_2048Mpc_n4096_massmin_131006374000000.0_massmax_756635880000000.0.npy', seed=0, export_rand_file=True, fileAppendix=\"MassBin4_2048Mpc\", include_rand_plot=False, pointSize=0.05, title=\"Random Halo Positions\", graphSize=20, axisLabelSize=20, axisTickSize=15, titleSize=45)\n",
    "GenerateRandomHalos('Trial_PP_halo_catalog_2048Mpc_n4096_massmin_756635880000000.0_massmax_4370000000000000.0.npy', seed=0, export_rand_file=True, fileAppendix=\"MassBin5_2048Mpc\", include_rand_plot=False, pointSize=0.05, title=\"Random Halo Positions\", graphSize=20, axisLabelSize=20, axisTickSize=15, titleSize=45)\n",
    "\n",
    "GenerateRandomHalos('Trial_PP_halo_catalog_2048Mpc_n4096_1_25_10_massmin_680000000000.0_massmax_3927384460000.0.npy', seed=0, export_rand_file=True, fileAppendix=\"MassBin1_2048Mpc_1_25_10\", include_rand_plot=False, pointSize=0.05, title=\"Random Halo Positions\", graphSize=20, axisLabelSize=20, axisTickSize=15, titleSize=45)\n",
    "GenerateRandomHalos('Trial_PP_halo_catalog_2048Mpc_n4096_1_25_10_massmin_3927384460000.0_massmax_22682865800000.0.npy', seed=0, export_rand_file=True, fileAppendix=\"MassBin2_2048Mpc_1_25_10\", include_rand_plot=False, pointSize=0.05, title=\"Random Halo Positions\", graphSize=20, axisLabelSize=20, axisTickSize=15, titleSize=45)\n",
    "GenerateRandomHalos('Trial_PP_halo_catalog_2048Mpc_n4096_1_25_10_massmin_22682865800000.0_massmax_131006374000000.0.npy', seed=0, export_rand_file=True, fileAppendix=\"MassBin3_2048Mpc_1_25_10\", include_rand_plot=False, pointSize=0.05, title=\"Random Halo Positions\", graphSize=20, axisLabelSize=20, axisTickSize=15, titleSize=45)\n",
    "GenerateRandomHalos('Trial_PP_halo_catalog_2048Mpc_n4096_1_25_10_massmin_131006374000000.0_massmax_756635880000000.0.npy', seed=0, export_rand_file=True, fileAppendix=\"MassBin4_2048Mpc_1_25_10\", include_rand_plot=False, pointSize=0.05, title=\"Random Halo Positions\", graphSize=20, axisLabelSize=20, axisTickSize=15, titleSize=45)\n",
    "GenerateRandomHalos('Trial_PP_halo_catalog_2048Mpc_n4096_1_25_10_massmin_756635880000000.0_massmax_4370000000000000.0.npy', seed=0, export_rand_file=True, fileAppendix=\"MassBin5_2048Mpc_1_25_10\", include_rand_plot=False, pointSize=0.05, title=\"Random Halo Positions\", graphSize=20, axisLabelSize=20, axisTickSize=15, titleSize=45)"
   ]
  }
 ],
 "metadata": {
  "kernelspec": {
   "display_name": "Python 3 (ipykernel)",
   "language": "python",
   "name": "python3"
  },
  "language_info": {
   "codemirror_mode": {
    "name": "ipython",
    "version": 3
   },
   "file_extension": ".py",
   "mimetype": "text/x-python",
   "name": "python",
   "nbconvert_exporter": "python",
   "pygments_lexer": "ipython3",
   "version": "3.9.7"
  }
 },
 "nbformat": 4,
 "nbformat_minor": 5
}

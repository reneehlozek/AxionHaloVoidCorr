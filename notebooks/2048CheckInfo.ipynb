{
 "cells": [
  {
   "cell_type": "code",
   "execution_count": null,
   "id": "a6985013",
   "metadata": {},
   "outputs": [],
   "source": [
    "from ObjectInfo import VoidInfo\n",
    "VoidInfo('Trial_PP_void_catalog_2048Mpc_n4096.txt', autoCenter=True, boxLength=2048)\n",
    "VoidInfo('Trial_PP_void_catalog_2048Mpc_n4096_1_25_10.npy', autoCenter=False, boxLength=2048)"
   ]
  }
 ],
 "metadata": {
  "kernelspec": {
   "display_name": "Python 3 (ipykernel)",
   "language": "python",
   "name": "python3"
  },
  "language_info": {
   "codemirror_mode": {
    "name": "ipython",
    "version": 3
   },
   "file_extension": ".py",
   "mimetype": "text/x-python",
   "name": "python",
   "nbconvert_exporter": "python",
   "pygments_lexer": "ipython3",
   "version": "3.10.9"
  }
 },
 "nbformat": 4,
 "nbformat_minor": 5
}

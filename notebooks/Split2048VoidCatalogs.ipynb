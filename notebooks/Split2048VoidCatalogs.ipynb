{
 "cells": [
  {
   "cell_type": "code",
   "execution_count": null,
   "id": "a2f7bcf3",
   "metadata": {},
   "outputs": [],
   "source": [
    "from SelectObjects import SelectVoidsByMass\n",
    "SelectVoidsByMass('Trial_PP_void_catalog_2048Mpc_n4096.txt', 7.1e+44, 1.67952207e+46, autoCenter=True, boxLength=2048, export_file=True, include_plot=False, generate_randoms=True, seed=0, export_rand_file=True, fileAppendix=\"MassBin1_2048Mpc\", include_rand_plot=False, pointSize=2, title=\"Mass Cut Void Positions something\", graphSize=20, axisLabelSize=20, axisTickSize=15, titleSize=45)\n",
    "SelectVoidsByMass('Trial_PP_void_catalog_2048Mpc_n4096.txt', 1.67952207e+46, 3.95657784e+47, autoCenter=True, boxLength=2048, export_file=True, include_plot=False, generate_randoms=True, seed=0, export_rand_file=True, fileAppendix=\"MassBin2_2048Mpc\", include_rand_plot=False, pointSize=2, title=\"Mass Cut Void Positions something\", graphSize=20, axisLabelSize=20, axisTickSize=15, titleSize=45)\n",
    "\n",
    "SelectVoidsByMass('Trial_PP_void_catalog_2048Mpc_n4096_1_25_10.npy', 7.1e+44, 1.67952207e+46, autoCenter=False, boxLength=2048, export_file=True, include_plot=False, generate_randoms=True, seed=0, export_rand_file=True, fileAppendix=\"MassBin1_2048Mpc_1_25_10\", include_rand_plot=False, pointSize=2, title=\"Mass Cut Void Positions something\", graphSize=20, axisLabelSize=20, axisTickSize=15, titleSize=45)\n",
    "SelectVoidsByMass('Trial_PP_void_catalog_2048Mpc_n4096_1_25_10.npy', 1.67952207e+46, 5.1e+47, autoCenter=False, boxLength=2048, export_file=True, include_plot=False, generate_randoms=True, seed=0, export_rand_file=True, fileAppendix=\"MassBin2_2048Mpc_1_25_10\", include_rand_plot=False, pointSize=2, title=\"Mass Cut Void Positions something\", graphSize=20, axisLabelSize=20, axisTickSize=15, titleSize=45)"
   ]
  }
 ],
 "metadata": {
  "kernelspec": {
   "display_name": "Python 3 (ipykernel)",
   "language": "python",
   "name": "python3"
  },
  "language_info": {
   "codemirror_mode": {
    "name": "ipython",
    "version": 3
   },
   "file_extension": ".py",
   "mimetype": "text/x-python",
   "name": "python",
   "nbconvert_exporter": "python",
   "pygments_lexer": "ipython3",
   "version": "3.9.7"
  }
 },
 "nbformat": 4,
 "nbformat_minor": 5
}

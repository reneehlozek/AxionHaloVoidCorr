{
 "cells": [
  {
   "cell_type": "code",
   "execution_count": null,
   "id": "ae7341c4",
   "metadata": {},
   "outputs": [],
   "source": [
    "from SelectObjects import SelectHalosByMass\n",
    "SelectHalosByMass('Trial_PP_halo_catalog_2048Mpc_n4096.npy', 6.80000000e+11, 3.92738446e+12, export_file=True, include_plot=False, generate_randoms=True, seed=0, export_rand_file=True, fileAppendix=\"MassBin1_2048Mpc\", include_rand_plot=False, pointSize=0.05, title=\"Mass Cut Halo 1\", graphSize=20, axisLabelSize=20, axisTickSize=15, titleSize=45)\n",
    "SelectHalosByMass('Trial_PP_halo_catalog_2048Mpc_n4096.npy', 3.92738446e+12, 2.26828658e+13, export_file=True, include_plot=False, generate_randoms=True, seed=0, export_rand_file=True, fileAppendix=\"MassBin2_2048Mpc\", include_rand_plot=False, pointSize=0.05, title=\"Mass Cut Halo 2\", graphSize=20, axisLabelSize=20, axisTickSize=15, titleSize=45)\n",
    "SelectHalosByMass('Trial_PP_halo_catalog_2048Mpc_n4096.npy', 2.26828658e+13, 1.31006374e+14, export_file=True, include_plot=False, generate_randoms=True, seed=0, export_rand_file=True, fileAppendix=\"MassBin3_2048Mpc\", include_rand_plot=False, pointSize=0.05, title=\"Mass Cut Halo 3\", graphSize=20, axisLabelSize=20, axisTickSize=15, titleSize=45)\n",
    "SelectHalosByMass('Trial_PP_halo_catalog_2048Mpc_n4096.npy', 1.31006374e+14, 7.56635880e+14, export_file=True, include_plot=False, generate_randoms=True, seed=0, export_rand_file=True, fileAppendix=\"MassBin4_2048Mpc\", include_rand_plot=False, pointSize=0.05, title=\"Mass Cut Halo 4\", graphSize=20, axisLabelSize=20, axisTickSize=15, titleSize=45)\n",
    "SelectHalosByMass('Trial_PP_halo_catalog_2048Mpc_n4096.npy', 7.56635880e+14, 4.37000000e+15,  export_file=True, include_plot=False, generate_randoms=True, seed=0, export_rand_file=True, fileAppendix=\"MassBin5_2048Mpc\", include_rand_plot=False, pointSize=0.05, title=\"Mass Cut Halo 5\", graphSize=20, axisLabelSize=20, axisTickSize=15, titleSize=45)\n",
    "\n",
    "SelectHalosByMass('Trial_PP_halo_catalog_2048Mpc_n4096_1_25_10.npy', 6.80000000e+11, 3.92738446e+12, export_file=True, include_plot=False, generate_randoms=True, seed=0, export_rand_file=True, fileAppendix=\"MassBin1_2048Mpc_1_25_10\", include_rand_plot=False, pointSize=0.05, title=\"Mass Cut Halo 1_1_25_10\", graphSize=20, axisLabelSize=20, axisTickSize=15, titleSize=45)\n",
    "SelectHalosByMass('Trial_PP_halo_catalog_2048Mpc_n4096_1_25_10.npy', 3.92738446e+12, 2.26828658e+13, export_file=True, include_plot=False, generate_randoms=True, seed=0, export_rand_file=True, fileAppendix=\"MassBin2_2048Mpc_1_25_10\", include_rand_plot=False, pointSize=0.05, title=\"Mass Cut Halo 2_1_25_10\", graphSize=20, axisLabelSize=20, axisTickSize=15, titleSize=45)\n",
    "SelectHalosByMass('Trial_PP_halo_catalog_2048Mpc_n4096_1_25_10.npy', 2.26828658e+13, 1.31006374e+14, export_file=True, include_plot=False, generate_randoms=True, seed=0, export_rand_file=True, fileAppendix=\"MassBin3_2048Mpc_1_25_10\", include_rand_plot=False, pointSize=0.05, title=\"Mass Cut Halo 3_1_25_10\", graphSize=20, axisLabelSize=20, axisTickSize=15, titleSize=45)\n",
    "SelectHalosByMass('Trial_PP_halo_catalog_2048Mpc_n4096_1_25_10.npy', 1.31006374e+14, 7.56635880e+14, export_file=True, include_plot=False, generate_randoms=True, seed=0, export_rand_file=True, fileAppendix=\"MassBin4_2048Mpc_1_25_10\", include_rand_plot=False, pointSize=0.05, title=\"Mass Cut Halo 4_1_25_10\", graphSize=20, axisLabelSize=20, axisTickSize=15, titleSize=45)\n",
    "SelectHalosByMass('Trial_PP_halo_catalog_2048Mpc_n4096_1_25_10.npy', 7.56635880e+14, 4.37000000e+15, export_file=True, include_plot=False, generate_randoms=True, seed=0, export_rand_file=True, fileAppendix=\"MassBin5_2048Mpc_1_25_10\", include_rand_plot=False, pointSize=0.05, title=\"Mass Cut Halo 5_1_25_10\", graphSize=20, axisLabelSize=20, axisTickSize=15, titleSize=45)"
   ]
  }
 ],
 "metadata": {
  "kernelspec": {
   "display_name": "Python 3 (ipykernel)",
   "language": "python",
   "name": "python3"
  },
  "language_info": {
   "codemirror_mode": {
    "name": "ipython",
    "version": 3
   },
   "file_extension": ".py",
   "mimetype": "text/x-python",
   "name": "python",
   "nbconvert_exporter": "python",
   "pygments_lexer": "ipython3",
   "version": "3.9.7"
  }
 },
 "nbformat": 4,
 "nbformat_minor": 5
}

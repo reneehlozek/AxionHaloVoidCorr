{
 "cells": [
  {
   "cell_type": "code",
   "execution_count": null,
   "id": "70e57f88",
   "metadata": {},
   "outputs": [],
   "source": [
    "from SelectObjects import SelectVoidsByXYZ\n",
    "SelectVoidsByXYZ('Trial_PP_void_catalog_2048Mpc_n4096_1_25_10_OLD.txt', -696.32, 696.32, -696.32, 696.32, -696.32, 696.32, autoCenter=True, boxLength=2048, export_file=True, include_plot=False, generate_randoms=False, seed=0, export_rand_file=False, fileAppendix=\"random\", include_rand_plot=False, pointSize=2, title=\"XYZ Cut Halo Voids something\", graphSize=20, axisLabelSize=20, axisTickSize=15, titleSize=45)"
   ]
  }
 ],
 "metadata": {
  "kernelspec": {
   "display_name": "Python 3 (ipykernel)",
   "language": "python",
   "name": "python3"
  },
  "language_info": {
   "codemirror_mode": {
    "name": "ipython",
    "version": 3
   },
   "file_extension": ".py",
   "mimetype": "text/x-python",
   "name": "python",
   "nbconvert_exporter": "python",
   "pygments_lexer": "ipython3",
   "version": "3.9.7"
  }
 },
 "nbformat": 4,
 "nbformat_minor": 5
}
